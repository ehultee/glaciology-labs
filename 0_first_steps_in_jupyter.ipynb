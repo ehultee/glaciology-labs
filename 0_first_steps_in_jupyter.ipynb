{
 "cells": [
  {
   "cell_type": "markdown",
   "metadata": {},
   "source": [
    "# Introducción al cuaderno Jupyter"
   ]
  },
  {
   "cell_type": "markdown",
   "metadata": {},
   "source": [
    "Welcome to this introduction to [Jupyter Notebook](https://jupyter.org/)! Notebooks are interactive documents that originated from the Python programming language, but have since spread to other languages (previously called \"iPython notebook\", you'll often find it by this name on forums or websites). The advantage of Jupyter notebooks is that they can include explanatory text, code, and graphics in the same document.\n",
    "\n",
    "This makes it an ideal playground for explaining and learning new things without having to jump between multiple documents. Also, you can test everything interactively!\n",
    "\n",
    "In our simulations and in this tutorial, we will use Python. This notebook will help us practice using the notebook to edit and run the code."
   ]
  },
  {
   "cell_type": "markdown",
   "metadata": {},
   "source": [
    "## First steps"
   ]
  },
  {
   "cell_type": "markdown",
   "metadata": {},
   "source": [
    "At first, the notebook looks like a text editor. Below you can see a cell. The usual function of a cell is to write code (Python):"
   ]
  },
  {
   "cell_type": "code",
   "execution_count": null,
   "metadata": {},
   "outputs": [],
   "source": [
    "# Click on this cell, so that its frame gets green\n",
    "m = 'Hello'\n",
    "print(m)"
   ]
  },
  {
   "cell_type": "markdown",
   "metadata": {},
   "source": [
    "You can write one or more lines of code in a cell. You can **run** the code in the cell by clicking the \"Run\" button on the toolbar when the cell frame is green or blue. Try it now!\n",
    "\n",
    "However, it is much faster to use the keyboard shortcut: `[Shift + Enter]`. Once you have executed a cell, the next cell will be selected. \n",
    "\n",
    "You can **insert** cells with the \"Insert\" menu. Again, it is much quicker to learn the keyboard shortcut for this: `[Ctrl + m]` or `[ESC]` to enter command mode (blue frame) then press `[a]` to \"up\" ( \"above\" or `[b]` for \"below\".\n",
    "\n",
    "Create a few empty cells above and below the current one and try creating some variables. Instead of clicking a cell to enter edit mode, press `[Enter]`.\n",
    "\n",
    "You can **delete** a cell by clicking \"Delete\" in the \"Edit\" menu, or you can use the shortcut: `[Ctrl + m]` to enter command mode and then press `[d]` twice!"
   ]
  },
  {
   "cell_type": "markdown",
   "metadata": {},
   "source": [
    "## More cell editing"
   ]
  },
  {
   "cell_type": "markdown",
   "metadata": {},
   "source": [
    "When you open the \"Edit\" menu, you'll see that there are more possibilities to edit cells, such as:\n",
    "- **copy** / **cut** and **paste**\n",
    "- **split** and **merge** cells \n",
    "\n",
    "and nore."
   ]
  },
  {
   "cell_type": "code",
   "execution_count": null,
   "metadata": {},
   "outputs": [],
   "source": [
    "a = 'This cell needs to be splitted.'\n",
    "\n",
    "b = 'Put the cursor in the row between the variables a and b, then choose [split cell] in the \"Edit\" menu!'"
   ]
  },
  {
   "cell_type": "markdown",
   "metadata": {},
   "source": [
    "Another useful command is \"Undo delete cell\", which we sometimes need when we press the `[d]` key too fast."
   ]
  },
  {
   "cell_type": "markdown",
   "metadata": {},
   "source": [
    "## Writing and executing code"
   ]
  },
  {
   "cell_type": "markdown",
   "metadata": {},
   "source": [
    "Variables created in a cell can be used (or overwritten) in the following cells:"
   ]
  },
  {
   "cell_type": "code",
   "execution_count": null,
   "metadata": {},
   "outputs": [],
   "source": [
    "s = 'Hello'\n",
    "print(s)"
   ]
  },
  {
   "cell_type": "code",
   "execution_count": null,
   "metadata": {},
   "outputs": [],
   "source": [
    "s = s + ' Python!'\n",
    "# Lines which start with # are not executed. These are for comments.\n",
    "s"
   ]
  },
  {
   "cell_type": "markdown",
   "metadata": {},
   "source": [
    "One advantage of Jupyter notebooks is that each cell can be run separately. That gives us an easy way to run code slowly, one piece of code after another. It is important to note that Jupyter notebook calculates and saves variables in the order in which cells are executed, not the written order of cells. That means that it makes a difference whether you run cells from top to bottom one after another, or if you mix them up (cell 1, then cell 5, then cell 2, etc.).\n",
    "\n",
    "**Try it below: run cells first in order from top to bottom, then try them in a different order.**"
   ]
  },
  {
   "cell_type": "code",
   "execution_count": null,
   "metadata": {},
   "outputs": [],
   "source": [
    "x = 2 # we define a variable x"
   ]
  },
  {
   "cell_type": "code",
   "execution_count": null,
   "metadata": {},
   "outputs": [],
   "source": [
    "x + 1 # we calculate x + 1"
   ]
  },
  {
   "cell_type": "code",
   "execution_count": null,
   "metadata": {},
   "outputs": [],
   "source": [
    "x = 5 # we re-define our variable with a different value"
   ]
  },
  {
   "cell_type": "code",
   "execution_count": null,
   "metadata": {},
   "outputs": [],
   "source": [
    "print('x = {}'.format(x)) # we ask the notebook to report the current value of x"
   ]
  },
  {
   "cell_type": "markdown",
   "metadata": {},
   "source": [
    "**What did you notice?**\n",
    "\n",
    "The numbers to the left of the cells show you the order of execution. When a calculation is still running, you will see an asterisk instead of the number. That brings us to the next topic:"
   ]
  },
  {
   "cell_type": "markdown",
   "metadata": {},
   "source": [
    "## Re-starting or interrupting the kernel"
   ]
  },
  {
   "cell_type": "markdown",
   "metadata": {},
   "source": [
    "The \"kernel\" is what executes our code.\n",
    "\n",
    "Sometimes calculations take too long and we want to **interrupt** them. You can do this by clicking the \"Stop\" button on the toolbar. You will find more options for dealing with the kernel in the menu bar, such as **restart** the kernel and **clear** all output."
   ]
  },
  {
   "cell_type": "markdown",
   "metadata": {},
   "source": [
    "##  Adding graphics with Matplotlib"
   ]
  },
  {
   "cell_type": "markdown",
   "metadata": {},
   "source": [
    "As I mentioned at the beginning, we can add diagrams in the Jupyter notebook. The most widely used plotting tool for Python is [Matplotlib](http://matplotlib.org/)."
   ]
  },
  {
   "cell_type": "code",
   "execution_count": null,
   "metadata": {},
   "outputs": [],
   "source": [
    "# First we need the next line to tell the notebook: display plots in the notebook.\n",
    "%matplotlib inline\n",
    "\n",
    "# Now, we import matplotlib:\n",
    "import matplotlib.pyplot as plt\n",
    "\n",
    "# We import also the package called numpy (that helps us playing with numbers).\n",
    "import numpy as np"
   ]
  },
  {
   "cell_type": "code",
   "execution_count": null,
   "metadata": {},
   "outputs": [],
   "source": [
    "# Let's plot something nice:\n",
    "\n",
    "# Define a range.\n",
    "x = np.arange(-1, 1.1, 0.1)\n",
    "# Plot it.\n",
    "plt.plot(x, np.sqrt(1-x**2))\n",
    "plt.title('My first plot in jupyter-notebook');"
   ]
  },
  {
   "cell_type": "markdown",
   "metadata": {},
   "source": [
    "Toggle the output by double clicking to the left of the graph, where an active rectangle appears."
   ]
  },
  {
   "cell_type": "markdown",
   "metadata": {},
   "source": [
    "## Download the notebook"
   ]
  },
  {
   "cell_type": "markdown",
   "metadata": {},
   "source": [
    "If you want to save the notebook on your computer, you can download it in several formats:\n",
    "\n",
    "- Notebook (* .ipynb)\n",
    "- Python (* .py)\n",
    "- HTML (* .html)\n",
    "- ...\n",
    "\n",
    "The notebook (.ipynb) needs JupyterLab to open and read. If you want to see your work and your graphics without installing anything else, we recommend downloading in HTML -- any web browser can open it.\n",
    "\n",
    "**To download the `ipynb` form notebook, right click in the file explorer and choose \"Download\".**\n",
    "\n",
    "**To convert the notebook to HTML, open the \"File\" menu and click \"Export Notebook As ...\".**"
   ]
  },
  {
   "cell_type": "markdown",
   "metadata": {},
   "source": [
    "*Save/export video*:\n",
    "\n",
    "<video controls src=\"img/export.mp4\" />"
   ]
  },
  {
   "cell_type": "markdown",
   "metadata": {},
   "source": [
    "## What next?"
   ]
  },
  {
   "cell_type": "markdown",
   "metadata": {},
   "source": [
    "These were the most important features of the Jupyter notebook. On the notebook menu bar, the \"Help\" tab provides a short \"User Interface Tour\" and a list of \"Keyboard shortcuts\". You can find more detailed tutorials [on the web](https://jupyter.org/try) or in the [documentation](https://jupyter-notebook.readthedocs.io/en/stable/notebook.html) if you have more questions. But with the commands you learned here, you are well prepared for the experiments that we are going to do!\n",
    "\n",
    "[Onward to the first experiment](1_glacier_bed_slope.ipynb)"
   ]
  }
 ],
 "metadata": {
  "hide_input": false,
  "kernelspec": {
   "display_name": "Python 3",
   "language": "python",
   "name": "python3"
  },
  "language_info": {
   "codemirror_mode": {
    "name": "ipython",
    "version": 3
   },
   "file_extension": ".py",
   "mimetype": "text/x-python",
   "name": "python",
   "nbconvert_exporter": "python",
   "pygments_lexer": "ipython3",
   "version": "3.8.3"
  },
  "toc": {
   "base_numbering": 1,
   "nav_menu": {},
   "number_sections": false,
   "sideBar": true,
   "skip_h1_title": true,
   "title_cell": "Table of Contents",
   "title_sidebar": "Contents",
   "toc_cell": false,
   "toc_position": {},
   "toc_section_display": true,
   "toc_window_display": false
  }
 },
 "nbformat": 4,
 "nbformat_minor": 4
}
